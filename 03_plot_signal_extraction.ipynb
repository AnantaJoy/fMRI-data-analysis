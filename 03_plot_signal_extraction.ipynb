{
 "cells": [
  {
   "cell_type": "code",
   "execution_count": null,
   "metadata": {},
   "outputs": [],
   "source": [
    "%matplotlib inline"
   ]
  },
  {
   "cell_type": "markdown",
   "metadata": {},
   "source": [
    "\n",
    "# Extracting signals from a brain parcellation\n",
    "\n",
    "Here we show how to extract signals from a brain parcellation and compute\n",
    "a correlation matrix.\n",
    "\n",
    "We also show the importance of defining good confounds signals: the\n",
    "first correlation matrix is computed after regressing out simple\n",
    "confounds signals: movement regressors, white matter and CSF signals, ...\n",
    "The second one is without any confounds: all regions are connected to each\n",
    "other. Finally we demonstrated the functionality of\n",
    ":func:`nilearn.interfaces.fmriprep.load_confounds` to flexibly select confound\n",
    "variables from :term:`fMRIPrep` outputs while following some implementation\n",
    "guideline of :term:`fMRIPrep` confounds documentation\n",
    "[](https://fmriprep.org/en/stable/outputs.html#confounds).\n",
    "\n",
    "One reference that discusses the importance of confounds is [Varoquaux and\n",
    "Craddock, Learning and comparing functional connectomes across subjects,\n",
    "NeuroImage 2013](http://www.sciencedirect.com/science/article/pii/S1053811913003340).\n",
    "\n",
    "This is just a code example, see the `corresponding section in the\n",
    "documentation <parcellation_time_series>` for more.\n",
    "\n",
    "<div class=\"alert alert-info\"><h4>Note</h4><p>This example needs SciPy >= 1.0.0 for the reordering of the matrix.</p></div>\n",
    "\n",
    ".. include:: ../../../examples/masker_note.rst\n"
   ]
  },
  {
   "cell_type": "code",
   "execution_count": 8,
   "metadata": {},
   "outputs": [],
   "source": [
    "import os\n",
    "from glob import glob"
   ]
  },
  {
   "cell_type": "markdown",
   "metadata": {},
   "source": [
    "## Retrieve the atlas and the data\n",
    "\n"
   ]
  },
  {
   "cell_type": "code",
   "execution_count": 23,
   "metadata": {},
   "outputs": [
    {
     "name": "stdout",
     "output_type": "stream",
     "text": [
      "fMRI dataset length:- 155\n"
     ]
    }
   ],
   "source": [
    "from nilearn import datasets\n",
    "\n",
    "dataset = datasets.fetch_atlas_harvard_oxford('cort-maxprob-thr25-2mm')\n",
    "atlas_filename = dataset.maps\n",
    "labels = dataset.labels\n",
    "\n",
    "# print('Atlas ROIs are located in nifti image (4D) at: %s' %\n",
    "#       atlas_filename)  # 4D data\n",
    "\n",
    "# One subject of brain development fmri data\n",
    "# data = datasets.fetch_development_fmri(n_subjects=1, reduce_confounds=True)\n",
    "# fmri_filenames = data.func[0]\n",
    "# reduced_confounds = data.confounds[0]  # This is a preselected set of confounds\n",
    "data = glob('./dataset/sub-pixar*.nii.gz')\n",
    "print(\"fMRI dataset length:-\",len(data))\n",
    "data.sort()\n",
    "# data"
   ]
  },
  {
   "cell_type": "code",
   "execution_count": 13,
   "metadata": {},
   "outputs": [
    {
     "data": {
      "text/plain": [
       "<nibabel.nifti1.Nifti1Image at 0x7ff1cac130d0>"
      ]
     },
     "execution_count": 13,
     "metadata": {},
     "output_type": "execute_result"
    }
   ],
   "source": [
    "atlas_filename"
   ]
  },
  {
   "cell_type": "code",
   "execution_count": 20,
   "metadata": {},
   "outputs": [],
   "source": [
    "# labels"
   ]
  },
  {
   "cell_type": "code",
   "execution_count": 24,
   "metadata": {},
   "outputs": [
    {
     "data": {
      "text/plain": [
       "'./dataset/sub-pixar001_task-pixar_space-MNI152NLin2009cAsym_desc-preproc_bold.nii.gz'"
      ]
     },
     "execution_count": 24,
     "metadata": {},
     "output_type": "execute_result"
    }
   ],
   "source": [
    "fmri_filenames = data[0]\n",
    "fmri_filenames "
   ]
  },
  {
   "cell_type": "markdown",
   "metadata": {},
   "source": [
    "## Extract signals on a parcellation defined by labels\n",
    "Using the NiftiLabelsMasker\n",
    "\n"
   ]
  },
  {
   "cell_type": "code",
   "execution_count": null,
   "metadata": {},
   "outputs": [],
   "source": [
    "from nilearn.maskers import NiftiLabelsMasker\n",
    "masker = NiftiLabelsMasker(labels_img=atlas_filename, standardize=True,\n",
    "                           memory='nilearn_cache', verbose=5)\n",
    "\n",
    "# Here we go from nifti files to the signal time series in a numpy\n",
    "# array. Note how we give confounds to be regressed out during signal\n",
    "# extraction\n",
    "time_series = {}\n",
    "\n",
    "# filename_dict = {}\n",
    "for k in range(155):\n",
    "     time_series[\"time_series_{0}\".format(k)] = masker.fit_transform(data[k], confounds=reduced_confounds)\n",
    "time_series.keys()\n",
    "\n",
    "# time_series = masker.fit_transform(fmri_filenames, confounds=reduced_confounds)\n"
   ]
  },
  {
   "cell_type": "code",
   "execution_count": 34,
   "metadata": {},
   "outputs": [
    {
     "data": {
      "text/plain": [
       "(168, 48)"
      ]
     },
     "execution_count": 34,
     "metadata": {},
     "output_type": "execute_result"
    }
   ],
   "source": [
    "time_series['time_series_1'].shape"
   ]
  },
  {
   "cell_type": "code",
   "execution_count": 1,
   "metadata": {},
   "outputs": [
    {
     "ename": "NameError",
     "evalue": "name 'time_series' is not defined",
     "output_type": "error",
     "traceback": [
      "\u001b[0;31m---------------------------------------------------------------------------\u001b[0m",
      "\u001b[0;31mNameError\u001b[0m                                 Traceback (most recent call last)",
      "\u001b[1;32m/home/ananta/Desktop/fMRI-data-analysis/03_plot_signal_extraction.ipynb Cell 12\u001b[0m in \u001b[0;36m<cell line: 1>\u001b[0;34m()\u001b[0m\n\u001b[0;32m----> <a href='vscode-notebook-cell:/home/ananta/Desktop/fMRI-data-analysis/03_plot_signal_extraction.ipynb#X34sZmlsZQ%3D%3D?line=0'>1</a>\u001b[0m time_series[\u001b[39m'\u001b[39m\u001b[39mtime_series_2\u001b[39m\u001b[39m'\u001b[39m]\n",
      "\u001b[0;31mNameError\u001b[0m: name 'time_series' is not defined"
     ]
    }
   ],
   "source": [
    "time_series['time_series_2']"
   ]
  },
  {
   "cell_type": "code",
   "execution_count": 39,
   "metadata": {},
   "outputs": [
    {
     "data": {
      "text/plain": [
       "'time_series_0'"
      ]
     },
     "execution_count": 39,
     "metadata": {},
     "output_type": "execute_result"
    }
   ],
   "source": [
    "filenames = list(time_series.keys())\n"
   ]
  },
  {
   "cell_type": "markdown",
   "metadata": {},
   "source": [
    "## Compute and display a correlation matrix\n",
    "\n"
   ]
  },
  {
   "cell_type": "code",
   "execution_count": null,
   "metadata": {},
   "outputs": [],
   "source": [
    "from nilearn.connectome import ConnectivityMeasure\n",
    "correlation_measure = ConnectivityMeasure(kind='correlation')\n",
    "correlation_matrix = correlation_measure.fit_transform([time_series])[0]\n",
    "\n",
    "# Plot the correlation matrix\n",
    "import numpy as np\n",
    "from nilearn import plotting\n",
    "# Make a large figure\n",
    "# Mask the main diagonal for visualization:\n",
    "np.fill_diagonal(correlation_matrix, 0)\n",
    "# The labels we have start with the background (0), hence we skip the\n",
    "# first label\n",
    "# matrices are ordered for block-like representation\n",
    "plotting.plot_matrix(correlation_matrix, figure=(10, 8), labels=labels[1:],\n",
    "                     vmax=0.8, vmin=-0.8, title=\"Confounds\",\n",
    "                     reorder=True)"
   ]
  },
  {
   "cell_type": "markdown",
   "metadata": {},
   "source": [
    "## Extract signals and compute a connectivity matrix without confounds removal\n",
    "After covering the basic of signal extraction and functional connectivity\n",
    "matrix presentation, let's look into the impact of confounds to :term:`fMRI`\n",
    "signal and functional connectivity. Firstly let's find out what a functional\n",
    "connectivity matrix looks like without confound removal.\n",
    "\n"
   ]
  },
  {
   "cell_type": "code",
   "execution_count": null,
   "metadata": {},
   "outputs": [],
   "source": [
    "time_series = masker.fit_transform(fmri_filenames)\n",
    "# Note how we did not specify confounds above. This is bad!\n",
    "\n",
    "correlation_matrix = correlation_measure.fit_transform([time_series])[0]\n",
    "\n",
    "np.fill_diagonal(correlation_matrix, 0)\n",
    "\n",
    "plotting.plot_matrix(correlation_matrix, figure=(10, 8), labels=labels[1:],\n",
    "                     vmax=0.8, vmin=-0.8, title='No confounds', reorder=True)"
   ]
  },
  {
   "cell_type": "markdown",
   "metadata": {},
   "source": [
    "## Load confounds from file using a flexible strategy with fmriprep interface\n",
    "The :func:`nilearn.interfaces.fmriprep.load_confounds` function provides\n",
    "flexible  parameters to retrieve the relevant columns from the TSV file\n",
    "generated by :term:`fMRIPrep`.\n",
    ":func:`nilearn.interfaces.fmriprep.load_confounds` ensures two things:\n",
    "\n",
    "1. The correct regressors are selected with provided strategy, and\n",
    "\n",
    "2. Volumes such as non-steady-state and/or high motion volumes are masked\n",
    "   out correctly.\n",
    "\n",
    "Let's try a simple strategy removing motion, white matter signal,\n",
    "cerebrospinal fluid signal with high-pass filtering.\n",
    "\n"
   ]
  },
  {
   "cell_type": "code",
   "execution_count": null,
   "metadata": {},
   "outputs": [],
   "source": [
    "from nilearn.interfaces.fmriprep import load_confounds\n",
    "confounds_simple, sample_mask = load_confounds(\n",
    "    fmri_filenames,\n",
    "    strategy=[\"high_pass\", \"motion\", \"wm_csf\"],\n",
    "    motion=\"basic\", wm_csf=\"basic\")\n",
    "\n",
    "print(\"The shape of the confounds matrix is:\", confounds_simple.shape)\n",
    "print(confounds_simple.columns)\n",
    "\n",
    "time_series = masker.fit_transform(fmri_filenames,\n",
    "                                   confounds=confounds_simple,\n",
    "                                   sample_mask=sample_mask)\n",
    "\n",
    "correlation_matrix = correlation_measure.fit_transform([time_series])[0]\n",
    "\n",
    "np.fill_diagonal(correlation_matrix, 0)\n",
    "\n",
    "plotting.plot_matrix(correlation_matrix, figure=(10, 8), labels=labels[1:],\n",
    "                     vmax=0.8, vmin=-0.8, title='Motion, WM, CSF',\n",
    "                     reorder=True)"
   ]
  },
  {
   "cell_type": "markdown",
   "metadata": {},
   "source": [
    "## Motion-based scrubbing\n",
    "With a scrubbing-based strategy,\n",
    ":func:`~nilearn.interfaces.fmriprep.load_confounds` returns a `sample_mask`\n",
    "that removes the index of volumes exceeding the framewise displacement and\n",
    "standardised DVARS threshold, and all the continuous segment with less than\n",
    "five volumes. Before applying scrubbing, it's important to access the\n",
    "percentage of volumns scrubbed. Scrubbing is not a suitable strategy for\n",
    "datasets with too many high motion subjects.\n",
    "On top of the simple strategy above, let's add scrubbing to our\n",
    "strategy.\n",
    "\n"
   ]
  },
  {
   "cell_type": "code",
   "execution_count": null,
   "metadata": {},
   "outputs": [],
   "source": [
    "confounds_scrub, sample_mask = load_confounds(\n",
    "    fmri_filenames,\n",
    "    strategy=[\"high_pass\", \"motion\", \"wm_csf\", \"scrub\"],\n",
    "    motion=\"basic\", wm_csf=\"basic\",\n",
    "    scrub=5, fd_threshold=0.2, std_dvars_threshold=3)\n",
    "\n",
    "print(\"After scrubbing, {} out of {} volumes remains\".format(\n",
    "    sample_mask.shape[0], confounds_scrub.shape[0]))\n",
    "print(\"The shape of the confounds matrix is:\", confounds_simple.shape)\n",
    "print(confounds_scrub.columns)\n",
    "\n",
    "time_series = masker.fit_transform(fmri_filenames,\n",
    "                                   confounds=confounds_scrub,\n",
    "                                   sample_mask=sample_mask)\n",
    "\n",
    "correlation_matrix = correlation_measure.fit_transform([time_series])[0]\n",
    "\n",
    "np.fill_diagonal(correlation_matrix, 0)\n",
    "\n",
    "plotting.plot_matrix(correlation_matrix, figure=(10, 8), labels=labels[1:],\n",
    "                     vmax=0.8, vmin=-0.8,\n",
    "                     title='Motion, WM, CSF, Scrubbing',\n",
    "                     reorder=True)"
   ]
  },
  {
   "cell_type": "markdown",
   "metadata": {},
   "source": [
    "## The impact of global signal removal\n",
    "Global signal removes the grand mean from your signal. The benefit is that\n",
    "it can remove impacts of physiological artifacts with minimal impact on the\n",
    "degrees of freedom. The downside is that one cannot get insight into variance\n",
    "explained by certain sources of noise. Now let's add global signal to the\n",
    "simple strategy and see its impact.\n",
    "\n"
   ]
  },
  {
   "cell_type": "code",
   "execution_count": null,
   "metadata": {},
   "outputs": [],
   "source": [
    "confounds_minimal_no_gsr, sample_mask = load_confounds(\n",
    "    fmri_filenames,\n",
    "    strategy=[\"high_pass\", \"motion\", \"wm_csf\", \"global_signal\"],\n",
    "    motion=\"basic\", wm_csf=\"basic\", global_signal=\"basic\")\n",
    "print(\"The shape of the confounds matrix is:\",\n",
    "      confounds_minimal_no_gsr.shape)\n",
    "print(confounds_minimal_no_gsr.columns)\n",
    "\n",
    "time_series = masker.fit_transform(fmri_filenames,\n",
    "                                   confounds=confounds_minimal_no_gsr,\n",
    "                                   sample_mask=sample_mask)\n",
    "\n",
    "correlation_matrix = correlation_measure.fit_transform([time_series])[0]\n",
    "\n",
    "np.fill_diagonal(correlation_matrix, 0)\n",
    "\n",
    "plotting.plot_matrix(correlation_matrix, figure=(10, 8), labels=labels[1:],\n",
    "                     vmax=0.8, vmin=-0.8,\n",
    "                     title='Motion, WM, CSF, GSR',\n",
    "                     reorder=True)"
   ]
  },
  {
   "cell_type": "markdown",
   "metadata": {},
   "source": [
    "## Using predefined strategies\n",
    "Instead of customising the strategy through\n",
    ":func:`nilearn.interfaces.fmriprep.load_confounds`, one can use a predefined\n",
    "strategy with :func:`nilearn.interfaces.fmriprep.load_confounds_strategy`.\n",
    "Based on the confound variables generated through :term:`fMRIPrep`, and past\n",
    "benchmarks studies (:footcite:`Ciric2017`, :footcite:`Parker2018`): `simple`,\n",
    "`scrubbing`, `compcor`, `ica_aroma`.\n",
    "The following examples shows how to use the `simple` strategy and overwrite\n",
    "the motion default to basic.\n",
    "\n"
   ]
  },
  {
   "cell_type": "code",
   "execution_count": null,
   "metadata": {},
   "outputs": [],
   "source": [
    "from nilearn.interfaces.fmriprep import load_confounds_strategy\n",
    "\n",
    "# use default parameters\n",
    "confounds, sample_mask = load_confounds_strategy(\n",
    "    fmri_filenames, denoise_strategy=\"simple\", motion=\"basic\"\n",
    ")\n",
    "time_series = masker.fit_transform(fmri_filenames,\n",
    "                                   confounds=confounds,\n",
    "                                   sample_mask=sample_mask)\n",
    "\n",
    "correlation_matrix = correlation_measure.fit_transform([time_series])[0]\n",
    "\n",
    "np.fill_diagonal(correlation_matrix, 0)\n",
    "\n",
    "plotting.plot_matrix(correlation_matrix, figure=(10, 8), labels=labels[1:],\n",
    "                     vmax=0.8, vmin=-0.8,\n",
    "                     title='simple',\n",
    "                     reorder=True)\n",
    "\n",
    "# add optional parameter global signal\n",
    "confounds, sample_mask = load_confounds_strategy(\n",
    "    fmri_filenames, denoise_strategy=\"simple\",\n",
    "    motion=\"basic\", global_signal=\"basic\"\n",
    ")\n",
    "time_series = masker.fit_transform(fmri_filenames,\n",
    "                                   confounds=confounds,\n",
    "                                   sample_mask=sample_mask)\n",
    "\n",
    "correlation_matrix = correlation_measure.fit_transform([time_series])[0]\n",
    "\n",
    "np.fill_diagonal(correlation_matrix, 0)\n",
    "\n",
    "plotting.plot_matrix(correlation_matrix, figure=(10, 8), labels=labels[1:],\n",
    "                     vmax=0.8, vmin=-0.8,\n",
    "                     title='simple with global signal',\n",
    "                     reorder=True)\n",
    "\n",
    "plotting.show()"
   ]
  },
  {
   "cell_type": "markdown",
   "metadata": {},
   "source": [
    "## References\n",
    "\n",
    ".. footbibliography::\n",
    "\n"
   ]
  }
 ],
 "metadata": {
  "kernelspec": {
   "display_name": "Python 3.10.6 64-bit",
   "language": "python",
   "name": "python3"
  },
  "language_info": {
   "codemirror_mode": {
    "name": "ipython",
    "version": 3
   },
   "file_extension": ".py",
   "mimetype": "text/x-python",
   "name": "python",
   "nbconvert_exporter": "python",
   "pygments_lexer": "ipython3",
   "version": "3.10.6"
  },
  "vscode": {
   "interpreter": {
    "hash": "916dbcbb3f70747c44a77c7bcd40155683ae19c65e1c03b4aa3499c5328201f1"
   }
  }
 },
 "nbformat": 4,
 "nbformat_minor": 1
}
