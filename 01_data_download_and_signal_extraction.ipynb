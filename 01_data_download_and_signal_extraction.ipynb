{
 "cells": [
  {
   "cell_type": "code",
   "execution_count": 1,
   "metadata": {},
   "outputs": [],
   "source": [
    "%matplotlib inline"
   ]
  },
  {
   "cell_type": "markdown",
   "metadata": {},
   "source": [
    "\n",
    "# Extracting signals from a brain parcellation\n",
    "\n",
    "Here we show how to extract signals from a brain parcellation and compute\n",
    "a correlation matrix.\n",
    "\n",
    "We also show the importance of defining good confounds signals: the\n",
    "first correlation matrix is computed after regressing out simple\n",
    "confounds signals: movement regressors, white matter and CSF signals, ...\n",
    "The second one is without any confounds: all regions are connected to each\n",
    "other. Finally we demonstrated the functionality of\n",
    ":func:`nilearn.interfaces.fmriprep.load_confounds` to flexibly select confound\n",
    "variables from :term:`fMRIPrep` outputs while following some implementation\n",
    "guideline of :term:`fMRIPrep` confounds documentation\n",
    "[](https://fmriprep.org/en/stable/outputs.html#confounds).\n",
    "\n",
    "One reference that discusses the importance of confounds is [Varoquaux and\n",
    "Craddock, Learning and comparing functional connectomes across subjects,\n",
    "NeuroImage 2013](http://www.sciencedirect.com/science/article/pii/S1053811913003340)."
   ]
  },
  {
   "cell_type": "markdown",
   "metadata": {},
   "source": [
    "## Retrieve the atlas and the data\n",
    "\n"
   ]
  },
  {
   "cell_type": "code",
   "execution_count": 2,
   "metadata": {
    "scrolled": true
   },
   "outputs": [
    {
     "name": "stdout",
     "output_type": "stream",
     "text": [
      "Atlas ROIs are located in nifti image (4D) at: <class 'nibabel.nifti1.Nifti1Image'>\n",
      "data shape (91, 109, 91)\n",
      "affine: \n",
      "[[   2.    0.    0.  -90.]\n",
      " [   0.    2.    0. -126.]\n",
      " [   0.    0.    2.  -72.]\n",
      " [   0.    0.    0.    1.]]\n",
      "metadata:\n",
      "<class 'nibabel.nifti1.Nifti1Header'> object, endian='<'\n",
      "sizeof_hdr      : 348\n",
      "data_type       : b''\n",
      "db_name         : b''\n",
      "extents         : 0\n",
      "session_error   : 0\n",
      "regular         : b''\n",
      "dim_info        : 0\n",
      "dim             : [  3  91 109  91   1   1   1   1]\n",
      "intent_p1       : 0.0\n",
      "intent_p2       : 0.0\n",
      "intent_p3       : 0.0\n",
      "intent_code     : none\n",
      "datatype        : uint8\n",
      "bitpix          : 8\n",
      "slice_start     : 0\n",
      "pixdim          : [1. 2. 2. 2. 1. 1. 1. 1.]\n",
      "vox_offset      : 0.0\n",
      "scl_slope       : nan\n",
      "scl_inter       : nan\n",
      "slice_end       : 0\n",
      "slice_code      : unknown\n",
      "xyzt_units      : 0\n",
      "cal_max         : 0.0\n",
      "cal_min         : 0.0\n",
      "slice_duration  : 0.0\n",
      "toffset         : 0.0\n",
      "glmax           : 0\n",
      "glmin           : 0\n",
      "descrip         : b''\n",
      "aux_file        : b''\n",
      "qform_code      : unknown\n",
      "sform_code      : aligned\n",
      "quatern_b       : 0.0\n",
      "quatern_c       : 0.0\n",
      "quatern_d       : 0.0\n",
      "qoffset_x       : -90.0\n",
      "qoffset_y       : -126.0\n",
      "qoffset_z       : -72.0\n",
      "srow_x          : [  2.   0.   0. -90.]\n",
      "srow_y          : [   0.    2.    0. -126.]\n",
      "srow_z          : [  0.   0.   2. -72.]\n",
      "intent_name     : b''\n",
      "magic           : b'n+1'\n",
      "\n",
      "Dataset created in ./dataset/development_fmri\n",
      "\n",
      "\n",
      "Dataset created in ./dataset/development_fmri/development_fmri\n",
      "\n",
      "Downloading data from https://osf.io/yr3av/download ...\n"
     ]
    },
    {
     "name": "stderr",
     "output_type": "stream",
     "text": [
      " ...done. (3 seconds, 0 min)\n"
     ]
    },
    {
     "name": "stdout",
     "output_type": "stream",
     "text": [
      "Downloading data from https://osf.io/download/5c8ff3df4712b400183b7092/ ...\n"
     ]
    },
    {
     "name": "stderr",
     "output_type": "stream",
     "text": [
      " ...done. (3 seconds, 0 min)\n"
     ]
    },
    {
     "name": "stdout",
     "output_type": "stream",
     "text": [
      "Downloading data from https://osf.io/download/5c8ff3e04712b400193b5bdf/ ...\n"
     ]
    },
    {
     "name": "stderr",
     "output_type": "stream",
     "text": [
      "Downloaded 5521408 of 5642698 bytes (97.9%,    0.1s remaining) ...done. (7 seconds, 0 min)\n"
     ]
    },
    {
     "name": "stdout",
     "output_type": "stream",
     "text": [
      "Downloading data from https://osf.io/download/5c8ff3e14712b400183b7097/ ...\n"
     ]
    },
    {
     "name": "stderr",
     "output_type": "stream",
     "text": [
      " ...done. (3 seconds, 0 min)\n"
     ]
    },
    {
     "name": "stdout",
     "output_type": "stream",
     "text": [
      "Downloading data from https://osf.io/download/5c8ff3e32286e80018c3e42c/ ...\n"
     ]
    },
    {
     "name": "stderr",
     "output_type": "stream",
     "text": [
      "Downloaded 3801088 of 4946416 bytes (76.8%,    0.6s remaining) ...done. (7 seconds, 0 min)\n"
     ]
    },
    {
     "name": "stdout",
     "output_type": "stream",
     "text": [
      "Downloading data from https://osf.io/download/5c8ff37da743a90018606df1/ ...\n"
     ]
    },
    {
     "name": "stderr",
     "output_type": "stream",
     "text": [
      " ...done. (4 seconds, 0 min)\n"
     ]
    },
    {
     "name": "stdout",
     "output_type": "stream",
     "text": [
      "Downloading data from https://osf.io/download/5c8ff37c2286e80019c3c102/ ...\n"
     ]
    },
    {
     "name": "stderr",
     "output_type": "stream",
     "text": [
      "Downloaded 5357568 of 6293165 bytes (85.1%,    0.5s remaining) ...done. (8 seconds, 0 min)\n"
     ]
    },
    {
     "name": "stdout",
     "output_type": "stream",
     "text": [
      "Downloading data from https://osf.io/download/5cb4701e3992690018133d4f/ ...\n"
     ]
    },
    {
     "name": "stderr",
     "output_type": "stream",
     "text": [
      " ...done. (3 seconds, 0 min)\n"
     ]
    },
    {
     "name": "stdout",
     "output_type": "stream",
     "text": [
      "Downloading data from https://osf.io/download/5cb46e6b353c58001b9cb34f/ ...\n"
     ]
    },
    {
     "name": "stderr",
     "output_type": "stream",
     "text": [
      "Downloaded 5210112 of 6136523 bytes (84.9%,    0.5s remaining) ...done. (7 seconds, 0 min)\n"
     ]
    },
    {
     "name": "stdout",
     "output_type": "stream",
     "text": [
      "Downloading data from https://osf.io/download/5c8ff37d4712b400193b5b54/ ...\n"
     ]
    },
    {
     "name": "stderr",
     "output_type": "stream",
     "text": [
      " ...done. (4 seconds, 0 min)\n"
     ]
    },
    {
     "name": "stdout",
     "output_type": "stream",
     "text": [
      "Downloading data from https://osf.io/download/5c8ff37d4712b400183b7011/ ...\n"
     ]
    },
    {
     "name": "stderr",
     "output_type": "stream",
     "text": [
      "Downloaded 5423104 of 5837641 bytes (92.9%,    0.2s remaining) ...done. (7 seconds, 0 min)\n"
     ]
    },
    {
     "name": "stdout",
     "output_type": "stream",
     "text": [
      "Downloading data from https://osf.io/download/5c8ff37e2286e80016c3c2cb/ ...\n"
     ]
    },
    {
     "name": "stderr",
     "output_type": "stream",
     "text": [
      " ...done. (3 seconds, 0 min)\n"
     ]
    },
    {
     "name": "stdout",
     "output_type": "stream",
     "text": [
      "Downloading data from https://osf.io/download/5c8ff3832286e80019c3c10f/ ...\n"
     ]
    },
    {
     "name": "stderr",
     "output_type": "stream",
     "text": [
      "Downloaded 5144576 of 6118892 bytes (84.1%,    0.6s remaining) ...done. (7 seconds, 0 min)\n"
     ]
    },
    {
     "name": "stdout",
     "output_type": "stream",
     "text": [
      "Downloading data from https://osf.io/download/5c8ff3822286e80018c3e37b/ ...\n"
     ]
    },
    {
     "name": "stderr",
     "output_type": "stream",
     "text": [
      " ...done. (3 seconds, 0 min)\n"
     ]
    },
    {
     "name": "stdout",
     "output_type": "stream",
     "text": [
      "Downloading data from https://osf.io/download/5c8ff382a743a90018606df8/ ...\n"
     ]
    },
    {
     "name": "stderr",
     "output_type": "stream",
     "text": [
      "Downloaded 5619712 of 6453693 bytes (87.1%,    0.5s remaining) ...done. (7 seconds, 0 min)\n"
     ]
    },
    {
     "name": "stdout",
     "output_type": "stream",
     "text": [
      "Downloading data from https://osf.io/download/5c8ff3814712b4001a3b5561/ ...\n"
     ]
    },
    {
     "name": "stderr",
     "output_type": "stream",
     "text": [
      " ...done. (4 seconds, 0 min)\n"
     ]
    },
    {
     "name": "stdout",
     "output_type": "stream",
     "text": [
      "Downloading data from https://osf.io/download/5c8ff3832286e80016c3c2d1/ ...\n"
     ]
    },
    {
     "name": "stderr",
     "output_type": "stream",
     "text": [
      "Downloaded 5160960 of 6176491 bytes (83.6%,    0.6s remaining) ...done. (8 seconds, 0 min)\n"
     ]
    },
    {
     "name": "stdout",
     "output_type": "stream",
     "text": [
      "Downloading data from https://osf.io/download/5c8ff3842286e80017c419e0/ ...\n"
     ]
    },
    {
     "name": "stderr",
     "output_type": "stream",
     "text": [
      " ...done. (3 seconds, 0 min)\n"
     ]
    },
    {
     "name": "stdout",
     "output_type": "stream",
     "text": [
      "Downloading data from https://osf.io/download/5c8ff3854712b4001a3b5568/ ...\n"
     ]
    },
    {
     "name": "stderr",
     "output_type": "stream",
     "text": [
      "Downloaded 5701632 of 6225801 bytes (91.6%,    0.3s remaining) ...done. (6 seconds, 0 min)\n"
     ]
    },
    {
     "name": "stdout",
     "output_type": "stream",
     "text": [
      "Downloading data from https://osf.io/download/5cb4702f39926900171090ee/ ...\n"
     ]
    },
    {
     "name": "stderr",
     "output_type": "stream",
     "text": [
      " ...done. (4 seconds, 0 min)\n"
     ]
    },
    {
     "name": "stdout",
     "output_type": "stream",
     "text": [
      "Downloading data from https://osf.io/download/5cb46e8b353c58001c9abe98/ ...\n"
     ]
    },
    {
     "name": "stderr",
     "output_type": "stream",
     "text": [
      "Downloaded 5062656 of 6232787 bytes (81.2%,    0.7s remaining)"
     ]
    },
    {
     "name": "stdout",
     "output_type": "stream",
     "text": [
      "['./dataset/development_fmri/development_fmri/sub-pixar123_task-pixar_space-MNI152NLin2009cAsym_desc-preproc_bold.nii.gz', './dataset/development_fmri/development_fmri/sub-pixar124_task-pixar_space-MNI152NLin2009cAsym_desc-preproc_bold.nii.gz', './dataset/development_fmri/development_fmri/sub-pixar001_task-pixar_space-MNI152NLin2009cAsym_desc-preproc_bold.nii.gz', './dataset/development_fmri/development_fmri/sub-pixar002_task-pixar_space-MNI152NLin2009cAsym_desc-preproc_bold.nii.gz', './dataset/development_fmri/development_fmri/sub-pixar003_task-pixar_space-MNI152NLin2009cAsym_desc-preproc_bold.nii.gz', './dataset/development_fmri/development_fmri/sub-pixar004_task-pixar_space-MNI152NLin2009cAsym_desc-preproc_bold.nii.gz', './dataset/development_fmri/development_fmri/sub-pixar005_task-pixar_space-MNI152NLin2009cAsym_desc-preproc_bold.nii.gz', './dataset/development_fmri/development_fmri/sub-pixar006_task-pixar_space-MNI152NLin2009cAsym_desc-preproc_bold.nii.gz', './dataset/development_fmri/development_fmri/sub-pixar007_task-pixar_space-MNI152NLin2009cAsym_desc-preproc_bold.nii.gz', './dataset/development_fmri/development_fmri/sub-pixar008_task-pixar_space-MNI152NLin2009cAsym_desc-preproc_bold.nii.gz']\n"
     ]
    },
    {
     "name": "stderr",
     "output_type": "stream",
     "text": [
      " ...done. (8 seconds, 0 min)\n"
     ]
    }
   ],
   "source": [
    "from nilearn import plotting as nplot\n",
    "\n",
    "from nilearn import datasets\n",
    "\n",
    "dataset = datasets.fetch_atlas_harvard_oxford('cort-maxprob-thr25-2mm')\n",
    "atlas_filename = dataset.maps\n",
    "# print(f'Atlas filename for this dataset: {atlas_filename.shape}')\n",
    "labels = dataset.labels\n",
    "\n",
    "my_data_dir = \"./dataset\"\n",
    "\n",
    "print('Atlas ROIs are located in nifti image (4D) at: %s' %\n",
    "      atlas_filename)  # 4D data\n",
    "\n",
    "# One subject of brain development fmri data\n",
    "data = datasets.fetch_development_fmri(data_dir=my_data_dir, n_subjects=10, reduce_confounds=True)\n",
    "fmri_filenames = data.func\n",
    "print(fmri_filenames)\n",
    "reduced_confounds = data.confounds  # This is a preselected set of confounds"
   ]
  },
  {
   "cell_type": "code",
   "execution_count": 4,
   "metadata": {},
   "outputs": [
    {
     "data": {
      "text/plain": [
       "<nilearn.plotting.displays._slicers.ZSlicer at 0x7fba58fd2500>"
      ]
     },
     "execution_count": 4,
     "metadata": {},
     "output_type": "execute_result"
    },
    {
     "data": {
      "image/png": "[encoded data removed]",
      "text/plain": [
       "<Figure size 1634.4x165.6 with 12 Axes>"
      ]
     },
     "metadata": {},
     "output_type": "display_data"
    }
   ],
   "source": [
    "# visualize the brain parcellation map\n",
    "\n",
    "nplot.plot_roi(atlas_filename,\n",
    "\t\t\tcut_coords=(-20,-10,0,10,20,30,40,50,60,70),\n",
    "\t\t\tdisplay_mode='z',\n",
    "\t\t\tcolorbar=True,\n",
    "\t\t\tcmap='Paired',\n",
    "\t\t\ttitle='harvard-oxford Atlas')"
   ]
  },
  {
   "cell_type": "code",
   "execution_count": null,
   "metadata": {},
   "outputs": [],
   "source": [
    "my_data_dir = f\"./dataset\""
   ]
  },
  {
   "cell_type": "code",
   "execution_count": 5,
   "metadata": {},
   "outputs": [
    {
     "data": {
      "text/plain": [
       "'./dataset'"
      ]
     },
     "execution_count": 5,
     "metadata": {},
     "output_type": "execute_result"
    }
   ],
   "source": [
    "my_data_dir"
   ]
  },
  {
   "cell_type": "code",
   "execution_count": 15,
   "metadata": {},
   "outputs": [
    {
     "data": {
      "text/plain": [
       "nibabel.nifti1.Nifti1Image"
      ]
     },
     "execution_count": 15,
     "metadata": {},
     "output_type": "execute_result"
    }
   ],
   "source": [
    "type(atlas_filename)"
   ]
  },
  {
   "cell_type": "code",
   "execution_count": 7,
   "metadata": {},
   "outputs": [
    {
     "ename": "IndexError",
     "evalue": "list index out of range",
     "output_type": "error",
     "traceback": [
      "\u001b[0;31m---------------------------------------------------------------------------\u001b[0m",
      "\u001b[0;31mIndexError\u001b[0m                                Traceback (most recent call last)",
      "Input \u001b[0;32mIn [7]\u001b[0m, in \u001b[0;36m<cell line: 1>\u001b[0;34m()\u001b[0m\n\u001b[0;32m----> 1\u001b[0m \u001b[43mfmri_filenames\u001b[49m\u001b[43m[\u001b[49m\u001b[38;5;241;43m15\u001b[39;49m\u001b[43m]\u001b[49m\n",
      "\u001b[0;31mIndexError\u001b[0m: list index out of range"
     ]
    }
   ],
   "source": [
    "fmri_filenames[15]"
   ]
  },
  {
   "cell_type": "markdown",
   "metadata": {},
   "source": [
    "## Extract signals on a parcellation defined by labels\n",
    "Using the NiftiLabelsMasker\n",
    "\n"
   ]
  },
  {
   "cell_type": "code",
   "execution_count": 8,
   "metadata": {},
   "outputs": [],
   "source": []
  },
  {
   "cell_type": "code",
   "execution_count": 30,
   "metadata": {},
   "outputs": [
    {
     "name": "stdout",
     "output_type": "stream",
     "text": [
      "[NiftiLabelsMasker.fit_transform] loading data from Nifti1Image(\n",
      "shape=(91, 109, 91),\n",
      "affine=array([[   2.,    0.,    0.,  -90.],\n",
      "       [   0.,    2.,    0., -126.],\n",
      "       [   0.,    0.,    2.,  -72.],\n",
      "       [   0.,    0.,    0.,    1.]])\n",
      ")\n",
      "Resampling labels\n",
      "[Memory]0.3s, 0.0min    : Loading _filter_and_extract...\n",
      "__________________________________filter_and_extract cache loaded - 0.0s, 0.0min\n",
      "[NiftiLabelsMasker.fit_transform] loading data from Nifti1Image(\n",
      "shape=(91, 109, 91),\n",
      "affine=array([[   2.,    0.,    0.,  -90.],\n",
      "       [   0.,    2.,    0., -126.],\n",
      "       [   0.,    0.,    2.,  -72.],\n",
      "       [   0.,    0.,    0.,    1.]])\n",
      ")\n",
      "[Memory]0.8s, 0.0min    : Loading _filter_and_extract...\n",
      "__________________________________filter_and_extract cache loaded - 0.0s, 0.0min\n",
      "[NiftiLabelsMasker.fit_transform] loading data from Nifti1Image(\n",
      "shape=(91, 109, 91),\n",
      "affine=array([[   2.,    0.,    0.,  -90.],\n",
      "       [   0.,    2.,    0., -126.],\n",
      "       [   0.,    0.,    2.,  -72.],\n",
      "       [   0.,    0.,    0.,    1.]])\n",
      ")\n",
      "[Memory]1.4s, 0.0min    : Loading _filter_and_extract...\n",
      "__________________________________filter_and_extract cache loaded - 0.0s, 0.0min\n",
      "[NiftiLabelsMasker.fit_transform] loading data from Nifti1Image(\n",
      "shape=(91, 109, 91),\n",
      "affine=array([[   2.,    0.,    0.,  -90.],\n",
      "       [   0.,    2.,    0., -126.],\n",
      "       [   0.,    0.,    2.,  -72.],\n",
      "       [   0.,    0.,    0.,    1.]])\n",
      ")\n",
      "[Memory]2.0s, 0.0min    : Loading _filter_and_extract...\n",
      "__________________________________filter_and_extract cache loaded - 0.0s, 0.0min\n",
      "[NiftiLabelsMasker.fit_transform] loading data from Nifti1Image(\n",
      "shape=(91, 109, 91),\n",
      "affine=array([[   2.,    0.,    0.,  -90.],\n",
      "       [   0.,    2.,    0., -126.],\n",
      "       [   0.,    0.,    2.,  -72.],\n",
      "       [   0.,    0.,    0.,    1.]])\n",
      ")\n",
      "[Memory]2.5s, 0.0min    : Loading _filter_and_extract...\n",
      "__________________________________filter_and_extract cache loaded - 0.0s, 0.0min\n",
      "[NiftiLabelsMasker.fit_transform] loading data from Nifti1Image(\n",
      "shape=(91, 109, 91),\n",
      "affine=array([[   2.,    0.,    0.,  -90.],\n",
      "       [   0.,    2.,    0., -126.],\n",
      "       [   0.,    0.,    2.,  -72.],\n",
      "       [   0.,    0.,    0.,    1.]])\n",
      ")\n",
      "[Memory]3.1s, 0.1min    : Loading _filter_and_extract...\n",
      "__________________________________filter_and_extract cache loaded - 0.0s, 0.0min\n",
      "[NiftiLabelsMasker.fit_transform] loading data from Nifti1Image(\n",
      "shape=(91, 109, 91),\n",
      "affine=array([[   2.,    0.,    0.,  -90.],\n",
      "       [   0.,    2.,    0., -126.],\n",
      "       [   0.,    0.,    2.,  -72.],\n",
      "       [   0.,    0.,    0.,    1.]])\n",
      ")\n",
      "[Memory]3.6s, 0.1min    : Loading _filter_and_extract...\n",
      "__________________________________filter_and_extract cache loaded - 0.0s, 0.0min\n",
      "[NiftiLabelsMasker.fit_transform] loading data from Nifti1Image(\n",
      "shape=(91, 109, 91),\n",
      "affine=array([[   2.,    0.,    0.,  -90.],\n",
      "       [   0.,    2.,    0., -126.],\n",
      "       [   0.,    0.,    2.,  -72.],\n",
      "       [   0.,    0.,    0.,    1.]])\n",
      ")\n",
      "[Memory]4.2s, 0.1min    : Loading _filter_and_extract...\n",
      "__________________________________filter_and_extract cache loaded - 0.0s, 0.0min\n",
      "[NiftiLabelsMasker.fit_transform] loading data from Nifti1Image(\n",
      "shape=(91, 109, 91),\n",
      "affine=array([[   2.,    0.,    0.,  -90.],\n",
      "       [   0.,    2.,    0., -126.],\n",
      "       [   0.,    0.,    2.,  -72.],\n",
      "       [   0.,    0.,    0.,    1.]])\n",
      ")\n",
      "[Memory]4.8s, 0.1min    : Loading _filter_and_extract...\n",
      "__________________________________filter_and_extract cache loaded - 0.0s, 0.0min\n",
      "[NiftiLabelsMasker.fit_transform] loading data from Nifti1Image(\n",
      "shape=(91, 109, 91),\n",
      "affine=array([[   2.,    0.,    0.,  -90.],\n",
      "       [   0.,    2.,    0., -126.],\n",
      "       [   0.,    0.,    2.,  -72.],\n",
      "       [   0.,    0.,    0.,    1.]])\n",
      ")\n",
      "[Memory]5.3s, 0.1min    : Loading _filter_and_extract...\n",
      "__________________________________filter_and_extract cache loaded - 0.0s, 0.0min\n"
     ]
    },
    {
     "data": {
      "text/plain": [
       "dict_keys(['time_series_0', 'time_series_1', 'time_series_2', 'time_series_3', 'time_series_4', 'time_series_5', 'time_series_6', 'time_series_7', 'time_series_8', 'time_series_9'])"
      ]
     },
     "execution_count": 30,
     "metadata": {},
     "output_type": "execute_result"
    }
   ],
   "source": [
    "from nilearn.maskers import NiftiMasker\n",
    "from nilearn.maskers import NiftiLabelsMasker\n",
    "\n",
    "masker = NiftiLabelsMasker(labels_img=atlas_filename, standardize=True,\n",
    "                           memory='nilearn_cache', verbose=5)\n",
    "\n",
    "# Here we go from nifti files to the signal time series in a numpy\n",
    "# array. Note how we give confounds to be regressed out during signal\n",
    "# extraction\n",
    "filename_dict = {}\n",
    "for k in range(10):\n",
    "     filename_dict[\"time_series_{0}\".format(k)] = masker.fit_transform(fmri_filenames[k], confounds=reduced_confounds)\n",
    "filename_dict.keys()"
   ]
  },
  {
   "cell_type": "code",
   "execution_count": 31,
   "metadata": {},
   "outputs": [
    {
     "data": {
      "text/html": [
       "<style>#sk-container-id-1 {color: black;background-color: white;}#sk-container-id-1 pre{padding: 0;}#sk-container-id-1 div.sk-toggleable {background-color: white;}#sk-container-id-1 label.sk-toggleable__label {cursor: pointer;display: block;width: 100%;margin-bottom: 0;padding: 0.3em;box-sizing: border-box;text-align: center;}#sk-container-id-1 label.sk-toggleable__label-arrow:before {content: \"▸\";float: left;margin-right: 0.25em;color: #696969;}#sk-container-id-1 label.sk-toggleable__label-arrow:hover:before {color: black;}#sk-container-id-1 div.sk-estimator:hover label.sk-toggleable__label-arrow:before {color: black;}#sk-container-id-1 div.sk-toggleable__content {max-height: 0;max-width: 0;overflow: hidden;text-align: left;background-color: #f0f8ff;}#sk-container-id-1 div.sk-toggleable__content pre {margin: 0.2em;color: black;border-radius: 0.25em;background-color: #f0f8ff;}#sk-container-id-1 input.sk-toggleable__control:checked~div.sk-toggleable__content {max-height: 200px;max-width: 100%;overflow: auto;}#sk-container-id-1 input.sk-toggleable__control:checked~label.sk-toggleable__label-arrow:before {content: \"▾\";}#sk-container-id-1 div.sk-estimator input.sk-toggleable__control:checked~label.sk-toggleable__label {background-color: #d4ebff;}#sk-container-id-1 div.sk-label input.sk-toggleable__control:checked~label.sk-toggleable__label {background-color: #d4ebff;}#sk-container-id-1 input.sk-hidden--visually {border: 0;clip: rect(1px 1px 1px 1px);clip: rect(1px, 1px, 1px, 1px);height: 1px;margin: -1px;overflow: hidden;padding: 0;position: absolute;width: 1px;}#sk-container-id-1 div.sk-estimator {font-family: monospace;background-color: #f0f8ff;border: 1px dotted black;border-radius: 0.25em;box-sizing: border-box;margin-bottom: 0.5em;}#sk-container-id-1 div.sk-estimator:hover {background-color: #d4ebff;}#sk-container-id-1 div.sk-parallel-item::after {content: \"\";width: 100%;border-bottom: 1px solid gray;flex-grow: 1;}#sk-container-id-1 div.sk-label:hover label.sk-toggleable__label {background-color: #d4ebff;}#sk-container-id-1 div.sk-serial::before {content: \"\";position: absolute;border-left: 1px solid gray;box-sizing: border-box;top: 0;bottom: 0;left: 50%;z-index: 0;}#sk-container-id-1 div.sk-serial {display: flex;flex-direction: column;align-items: center;background-color: white;padding-right: 0.2em;padding-left: 0.2em;position: relative;}#sk-container-id-1 div.sk-item {position: relative;z-index: 1;}#sk-container-id-1 div.sk-parallel {display: flex;align-items: stretch;justify-content: center;background-color: white;position: relative;}#sk-container-id-1 div.sk-item::before, #sk-container-id-1 div.sk-parallel-item::before {content: \"\";position: absolute;border-left: 1px solid gray;box-sizing: border-box;top: 0;bottom: 0;left: 50%;z-index: -1;}#sk-container-id-1 div.sk-parallel-item {display: flex;flex-direction: column;z-index: 1;position: relative;background-color: white;}#sk-container-id-1 div.sk-parallel-item:first-child::after {align-self: flex-end;width: 50%;}#sk-container-id-1 div.sk-parallel-item:last-child::after {align-self: flex-start;width: 50%;}#sk-container-id-1 div.sk-parallel-item:only-child::after {width: 0;}#sk-container-id-1 div.sk-dashed-wrapped {border: 1px dashed gray;margin: 0 0.4em 0.5em 0.4em;box-sizing: border-box;padding-bottom: 0.4em;background-color: white;}#sk-container-id-1 div.sk-label label {font-family: monospace;font-weight: bold;display: inline-block;line-height: 1.2em;}#sk-container-id-1 div.sk-label-container {text-align: center;}#sk-container-id-1 div.sk-container {/* jupyter's `normalize.less` sets `[hidden] { display: none; }` but bootstrap.min.css set `[hidden] { display: none !important; }` so we also need the `!important` here to be able to override the default hidden behavior on the sphinx rendered scikit-learn.org. See: https://github.com/scikit-learn/scikit-learn/issues/21755 */display: inline-block !important;position: relative;}#sk-container-id-1 div.sk-text-repr-fallback {display: none;}</style><div id=\"sk-container-id-1\" class=\"sk-top-container\"><div class=\"sk-text-repr-fallback\"><pre>NiftiLabelsMasker(labels_img=&lt;nibabel.nifti1.Nifti1Image object at 0x7fba7465bd60&gt;,\n",
       "                  memory=Memory(location=nilearn_cache/joblib),\n",
       "                  standardize=True, verbose=5)</pre><b>In a Jupyter environment, please rerun this cell to show the HTML representation or trust the notebook. <br />On GitHub, the HTML representation is unable to render, please try loading this page with nbviewer.org.</b></div><div class=\"sk-container\" hidden><div class=\"sk-item\"><div class=\"sk-estimator sk-toggleable\"><input class=\"sk-toggleable__control sk-hidden--visually\" id=\"sk-estimator-id-1\" type=\"checkbox\" checked><label for=\"sk-estimator-id-1\" class=\"sk-toggleable__label sk-toggleable__label-arrow\">NiftiLabelsMasker</label><div class=\"sk-toggleable__content\"><pre>NiftiLabelsMasker(labels_img=&lt;nibabel.nifti1.Nifti1Image object at 0x7fba7465bd60&gt;,\n",
       "                  memory=Memory(location=nilearn_cache/joblib),\n",
       "                  standardize=True, verbose=5)</pre></div></div></div></div></div>"
      ],
      "text/plain": [
       "NiftiLabelsMasker(labels_img=<nibabel.nifti1.Nifti1Image object at 0x7fba7465bd60>,\n",
       "                  memory=Memory(location=nilearn_cache/joblib),\n",
       "                  standardize=True, verbose=5)"
      ]
     },
     "execution_count": 31,
     "metadata": {},
     "output_type": "execute_result"
    }
   ],
   "source": [
    "masker"
   ]
  },
  {
   "cell_type": "code",
   "execution_count": 29,
   "metadata": {},
   "outputs": [
    {
     "data": {
      "text/plain": [
       "dict_keys(['time_series_0', 'time_series_1', 'time_series_2', 'time_series_3', 'time_series_4', 'time_series_5', 'time_series_6', 'time_series_7', 'time_series_8', 'time_series_9'])"
      ]
     },
     "execution_count": 29,
     "metadata": {},
     "output_type": "execute_result"
    }
   ],
   "source": [
    "# \n",
    "import pandas as pd\n",
    "filename_dict.keys()\n"
   ]
  },
  {
   "cell_type": "code",
   "execution_count": null,
   "metadata": {},
   "outputs": [],
   "source": [
    "time_series_0"
   ]
  },
  {
   "cell_type": "code",
   "execution_count": null,
   "metadata": {},
   "outputs": [],
   "source": [
    "d"
   ]
  },
  {
   "cell_type": "code",
   "execution_count": null,
   "metadata": {},
   "outputs": [],
   "source": [
    "my_variables = {}\n",
    "i = 0\n",
    "for j in range(5):\n",
    "    i += 1\n",
    "    my_variables[\"w\" + str(i)] = function(i)"
   ]
  },
  {
   "cell_type": "code",
   "execution_count": null,
   "metadata": {},
   "outputs": [],
   "source": [
    "print (data.func[0])"
   ]
  },
  {
   "cell_type": "code",
   "execution_count": null,
   "metadata": {},
   "outputs": [],
   "source": [
    "time_series.shape"
   ]
  },
  {
   "cell_type": "code",
   "execution_count": null,
   "metadata": {},
   "outputs": [],
   "source": [
    "print(type(time_series_0))"
   ]
  },
  {
   "cell_type": "code",
   "execution_count": null,
   "metadata": {},
   "outputs": [],
   "source": [
    "print(len(fmri_filenames))"
   ]
  },
  {
   "cell_type": "code",
   "execution_count": null,
   "metadata": {},
   "outputs": [],
   "source": []
  },
  {
   "cell_type": "markdown",
   "metadata": {},
   "source": [
    "## Compute and display a correlation matrix\n",
    "\n"
   ]
  },
  {
   "cell_type": "code",
   "execution_count": null,
   "metadata": {},
   "outputs": [],
   "source": [
    "from nilearn.connectome import ConnectivityMeasure\n",
    "correlation_measure = ConnectivityMeasure(kind='correlation')\n",
    "correlation_matrix = correlation_measure.fit_transform([time_series_0])[0]\n",
    "\n",
    "# Plot the correlation matrix\n",
    "import numpy as np\n",
    "from nilearn import plotting\n",
    "# Make a large figure\n",
    "# Mask the main diagonal for visualization:\n",
    "np.fill_diagonal(correlation_matrix, 0)\n",
    "# The labels we have start with the background (0), hence we skip the\n",
    "# first label\n",
    "# matrices are ordered for block-like representation\n",
    "plotting.plot_matrix(correlation_matrix, figure=(10, 8), labels=labels[1:],\n",
    "                     vmax=0.8, vmin=-0.8, title=\"Confounds\",\n",
    "                     reorder=True)"
   ]
  },
  {
   "cell_type": "markdown",
   "metadata": {},
   "source": [
    "## Extract signals and compute a connectivity matrix without confounds removal\n",
    "After covering the basic of signal extraction and functional connectivity\n",
    "matrix presentation, let's look into the impact of confounds to :term:`fMRI`\n",
    "signal and functional connectivity. Firstly let's find out what a functional\n",
    "connectivity matrix looks like without confound removal.\n",
    "\n"
   ]
  },
  {
   "cell_type": "code",
   "execution_count": null,
   "metadata": {},
   "outputs": [],
   "source": [
    "time_series = masker.fit_transform(fmri_filenames)\n",
    "# Note how we did not specify confounds above. This is bad!\n",
    "\n",
    "correlation_matrix = correlation_measure.fit_transform([time_series])[0]\n",
    "\n",
    "np.fill_diagonal(correlation_matrix, 0)\n",
    "\n",
    "\n",
    "plotting.plot_matrix(correlation_matrix, figure=(10, 8), labels=labels[1:],\n",
    "                     vmax=0.8, vmin=-0.8, title='No confounds', reorder=True)"
   ]
  },
  {
   "cell_type": "markdown",
   "metadata": {},
   "source": [
    "## Load confounds from file using a flexible strategy with fmriprep interface\n",
    "\n",
    "To use these flexible strategy, the fMRI data must be preprocessed via fMRIPrep functional derivative directory from the 1.2.x series. The compcor noise component requires 1.4.x series or above.\n",
    "\n",
    "It ensures two things:\n",
    "\n",
    "1. The correct regressors are selected with provided strategy, and\n",
    "\n",
    "2. Volumes such as non-steady-state and/or high motion volumes are masked\n",
    "   out correctly.\n",
    "\n",
    "Let's try a simple strategy removing motion, white matter signal,\n",
    "cerebrospinal fluid signal with high-pass filtering."
   ]
  },
  {
   "cell_type": "code",
   "execution_count": null,
   "metadata": {
    "scrolled": false
   },
   "outputs": [],
   "source": [
    "from nilearn.interfaces.fmriprep import load_confounds\n",
    "\n",
    "\n",
    "confounds_simple, sample_mask = load_confounds(\n",
    "    fmri_filenames,\n",
    "    strategy=[\"high_pass\", \"motion\", \"wm_csf\"],\n",
    "    motion=\"basic\", wm_csf=\"basic\")\n",
    "\n",
    "print(\"The shape of the confounds matrix is:\", confounds_simple.shape)\n",
    "print(confounds_simple.columns)\n",
    "\n",
    "time_series = masker.fit_transform(fmri_filenames,\n",
    "                                   confounds=confounds_simple,\n",
    "                                   sample_mask=sample_mask)\n",
    "\n",
    "correlation_matrix = correlation_measure.fit_transform([time_series])[0]\n",
    "\n",
    "np.fill_diagonal(correlation_matrix, 0)\n",
    "\n",
    "plotting.plot_matrix(correlation_matrix, figure=(10, 8), labels=labels[1:],\n",
    "                     vmax=0.8, vmin=-0.8, title='Motion, WM, CSF',\n",
    "                     reorder=True)"
   ]
  },
  {
   "cell_type": "markdown",
   "metadata": {},
   "source": [
    "## Motion-based scrubbing\n",
    "With a scrubbing-based strategy,\n",
    ":func:`~nilearn.interfaces.fmriprep.load_confounds` returns a `sample_mask`\n",
    "that removes the index of volumes exceeding the framewise displacement and\n",
    "standardised DVARS threshold, and all the continuous segment with less than\n",
    "five volumes. Before applying scrubbing, it's important to access the\n",
    "percentage of volumns scrubbed. Scrubbing is not a suitable strategy for\n",
    "datasets with too many high motion subjects.\n",
    "On top of the simple strategy above, let's add scrubbing to our\n",
    "strategy.\n",
    "\n"
   ]
  },
  {
   "cell_type": "code",
   "execution_count": null,
   "metadata": {},
   "outputs": [],
   "source": [
    "\n",
    "confounds_scrub, sample_mask = load_confounds(\n",
    "    fmri_filenames,\n",
    "    strategy=[\"high_pass\", \"motion\", \"wm_csf\", \"scrub\"],\n",
    "    motion=\"basic\", wm_csf=\"basic\",\n",
    "    scrub=5, fd_threshold=0.2, std_dvars_threshold=3)\n",
    "\n",
    "print(\"After scrubbing, {} out of {} volumes remains\".format(\n",
    "    sample_mask.shape[0], confounds_scrub.shape[0]))\n",
    "print(\"The shape of the confounds matrix is:\", confounds_simple.shape)\n",
    "print(confounds_scrub.columns)\n",
    "\n",
    "time_series = masker.fit_transform(fmri_filenames,\n",
    "                                   confounds=confounds_scrub,\n",
    "                                   sample_mask=sample_mask)\n",
    "\n",
    "correlation_matrix = correlation_measure.fit_transform([time_series])[0]\n",
    "\n",
    "np.fill_diagonal(correlation_matrix, 0)\n",
    "\n",
    "plotting.plot_matrix(correlation_matrix, figure=(10, 8), labels=labels[1:],\n",
    "                     vmax=0.8, vmin=-0.8,\n",
    "                     title='Motion, WM, CSF, Scrubbing',\n",
    "                     reorder=True)"
   ]
  },
  {
   "cell_type": "markdown",
   "metadata": {},
   "source": [
    "## The impact of global signal removal\n",
    "Global signal removes the grand mean from your signal. The benefit is that\n",
    "it can remove impacts of physiological artifacts with minimal impact on the\n",
    "degrees of freedom. The downside is that one cannot get insight into variance\n",
    "explained by certain sources of noise. Now let's add global signal to the\n",
    "simple strategy and see its impact.\n",
    "\n"
   ]
  },
  {
   "cell_type": "code",
   "execution_count": null,
   "metadata": {},
   "outputs": [],
   "source": [
    "confounds_minimal_no_gsr, sample_mask = load_confounds(\n",
    "    fmri_filenames,\n",
    "    strategy=[\"high_pass\", \"motion\", \"wm_csf\", \"global_signal\"],\n",
    "    motion=\"basic\", wm_csf=\"basic\", global_signal=\"basic\")\n",
    "print(\"The shape of the confounds matrix is:\",\n",
    "      confounds_minimal_no_gsr.shape)\n",
    "print(confounds_minimal_no_gsr.columns)\n",
    "\n",
    "time_series = masker.fit_transform(fmri_filenames,\n",
    "                                   confounds=confounds_minimal_no_gsr,\n",
    "                                   sample_mask=sample_mask)\n",
    "\n",
    "correlation_matrix = correlation_measure.fit_transform([time_series])[0]\n",
    "\n",
    "np.fill_diagonal(correlation_matrix, 0)\n",
    "\n",
    "plotting.plot_matrix(correlation_matrix, figure=(10, 8), labels=labels[1:],\n",
    "                     vmax=0.8, vmin=-0.8,\n",
    "                     title='Motion, WM, CSF, GSR',\n",
    "                     reorder=True)"
   ]
  },
  {
   "cell_type": "markdown",
   "metadata": {},
   "source": [
    "## Using predefined strategies\n",
    "Instead of customising the strategy through\n",
    ":func:`nilearn.interfaces.fmriprep.load_confounds`, one can use a predefined\n",
    "strategy with :func:`nilearn.interfaces.fmriprep.load_confounds_strategy`.\n",
    "Based on the confound variables generated through :term:`fMRIPrep`, and past\n",
    "benchmarks studies (:footcite:`Ciric2017`, :footcite:`Parker2018`): `simple`,\n",
    "`scrubbing`, `compcor`, `ica_aroma`.\n",
    "The following examples shows how to use the `simple` strategy and overwrite\n",
    "the motion default to basic.\n",
    "\n"
   ]
  },
  {
   "cell_type": "code",
   "execution_count": null,
   "metadata": {},
   "outputs": [],
   "source": [
    "from nilearn.interfaces.fmriprep import load_confounds_strategy\n",
    "\n",
    "# use default parameters\n",
    "confounds, sample_mask = load_confounds_strategy(\n",
    "    fmri_filenames, denoise_strategy=\"simple\", motion=\"basic\"\n",
    ")\n",
    "time_series = masker.fit_transform(fmri_filenames,\n",
    "                                   confounds=confounds,\n",
    "                                   sample_mask=sample_mask)\n",
    "\n",
    "correlation_matrix = correlation_measure.fit_transform([time_series])[0]\n",
    "\n",
    "np.fill_diagonal(correlation_matrix, 0)\n",
    "\n",
    "plotting.plot_matrix(correlation_matrix, figure=(10, 8), labels=labels[1:],\n",
    "                     vmax=0.8, vmin=-0.8,\n",
    "                     title='simple',\n",
    "                     reorder=True)\n",
    "\n",
    "# add optional parameter global signal\n",
    "confounds, sample_mask = load_confounds_strategy(\n",
    "    fmri_filenames, denoise_strategy=\"simple\",\n",
    "    motion=\"basic\", global_signal=\"basic\"\n",
    ")\n",
    "time_series = masker.fit_transform(fmri_filenames,\n",
    "                                   confounds=confounds,\n",
    "                                   sample_mask=sample_mask)\n",
    "\n",
    "correlation_matrix = correlation_measure.fit_transform([time_series])[0]\n",
    "\n",
    "np.fill_diagonal(correlation_matrix, 0)\n",
    "\n",
    "plotting.plot_matrix(correlation_matrix, figure=(10, 8), labels=labels[1:],\n",
    "                     vmax=0.8, vmin=-0.8,\n",
    "                     title='simple',\n",
    "                     reorder=True)\n",
    "\n",
    "plotting.show()"
   ]
  }
 ],
 "metadata": {
  "kernelspec": {
   "display_name": "Python 3 (ipykernel)",
   "language": "python",
   "name": "python3"
  },
  "language_info": {
   "codemirror_mode": {
    "name": "ipython",
    "version": 3
   },
   "file_extension": ".py",
   "mimetype": "text/x-python",
   "name": "python",
   "nbconvert_exporter": "python",
   "pygments_lexer": "ipython3",
   "version": "3.10.6"
  }
 },
 "nbformat": 4,
 "nbformat_minor": 1
}
